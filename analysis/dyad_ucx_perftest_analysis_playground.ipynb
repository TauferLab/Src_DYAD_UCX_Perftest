{
 "cells": [
  {
   "cell_type": "code",
   "execution_count": null,
   "id": "abcccb12",
   "metadata": {},
   "outputs": [],
   "source": [
    "import hatchet as ht\n",
    "import thicket as th\n",
    "\n",
    "import os"
   ]
  },
  {
   "cell_type": "code",
   "execution_count": null,
   "id": "174a935d",
   "metadata": {},
   "outputs": [],
   "source": [
    "# Change this variable to the directory where your 'caliper' executable is\n",
    "caliper_path = \"/g/g90/lumsden1/ws/insitu_benchmark/_corona_spack_env/view/bin\""
   ]
  },
  {
   "cell_type": "code",
   "execution_count": null,
   "id": "85f0549a",
   "metadata": {},
   "outputs": [],
   "source": [
    "# Change this variable to the '.cali' file for the server\n",
    "server_cali_file = \"/g/g90/lumsden1/ws/insitu_benchmark/tests/dyad_ucx_perftest/test_install/bin/server.cali\""
   ]
  },
  {
   "cell_type": "code",
   "execution_count": null,
   "id": "261ff2a1",
   "metadata": {},
   "outputs": [],
   "source": [
    "# Change this variable to the '.cali' file for the client\n",
    "client_cali_file = \"/g/g90/lumsden1/ws/insitu_benchmark/tests/dyad_ucx_perftest/test_install/bin/client.cali\""
   ]
  },
  {
   "cell_type": "code",
   "execution_count": null,
   "id": "3ea09ebd",
   "metadata": {},
   "outputs": [],
   "source": [
    "os.environ[\"PATH\"] += os.pathsep + caliper_path"
   ]
  },
  {
   "cell_type": "code",
   "execution_count": null,
   "id": "a4fe5431",
   "metadata": {},
   "outputs": [],
   "source": [
    "cali_query = \"LET time_sec=scale(time.duration.ns,1e-9) \\\n",
    "SELECT region,mpi.function,sum(time.duration.ns) AS time_ns, \\\n",
    "inclusive_sum(time.duration.ns) AS time_inc_ns, \\\n",
    "sum(time_sec) AS time,inclusive_sum(time_sec) AS \\\"time (inc)\\\" \\\n",
    "GROUP BY region,mpi.function FORMAT json-split\""
   ]
  },
  {
   "cell_type": "code",
   "execution_count": null,
   "id": "1099ac08",
   "metadata": {},
   "outputs": [],
   "source": [
    "server_th = th.Thicket.from_caliper(server_cali_file, cali_query)"
   ]
  },
  {
   "cell_type": "code",
   "execution_count": null,
   "id": "f8933fc9",
   "metadata": {},
   "outputs": [],
   "source": [
    "client_th = th.Thicket.from_caliper(client_cali_file, cali_query)"
   ]
  },
  {
   "cell_type": "code",
   "execution_count": null,
   "id": "113fb4cb",
   "metadata": {},
   "outputs": [],
   "source": [
    "th.mean(server_th, [\"time_inc_ns\", \"time (inc)\", \"time_ns\", \"time\"])"
   ]
  },
  {
   "cell_type": "code",
   "execution_count": null,
   "id": "05c50ecb",
   "metadata": {},
   "outputs": [],
   "source": [
    "th.mean(client_th, [\"time_inc_ns\", \"time (inc)\", \"time_ns\", \"time\"])"
   ]
  },
  {
   "cell_type": "code",
   "execution_count": null,
   "id": "b5f81a92",
   "metadata": {},
   "outputs": [],
   "source": [
    "server_th.dataframe"
   ]
  },
  {
   "cell_type": "code",
   "execution_count": null,
   "id": "2a69eba8",
   "metadata": {},
   "outputs": [],
   "source": [
    "server_th.statsframe.dataframe"
   ]
  },
  {
   "cell_type": "code",
   "execution_count": null,
   "id": "17e53dfd",
   "metadata": {},
   "outputs": [],
   "source": [
    "print(server_th.tree(metric_column=\"time_inc_ns_mean\"))"
   ]
  },
  {
   "cell_type": "code",
   "execution_count": null,
   "id": "19e3ce61",
   "metadata": {},
   "outputs": [],
   "source": [
    "print(client_th.tree(metric_column=\"time_inc_ns_mean\"))"
   ]
  },
  {
   "cell_type": "code",
   "execution_count": null,
   "id": "a3116264",
   "metadata": {},
   "outputs": [],
   "source": []
  }
 ],
 "metadata": {
  "kernelspec": {
   "display_name": "Custom kernel for A4MD benchmark on Corona",
   "language": "python",
   "name": "corona_dyad_a4md_benchmark"
  },
  "language_info": {
   "codemirror_mode": {
    "name": "ipython",
    "version": 3
   },
   "file_extension": ".py",
   "mimetype": "text/x-python",
   "name": "python",
   "nbconvert_exporter": "python",
   "pygments_lexer": "ipython3",
   "version": "3.10.8"
  }
 },
 "nbformat": 4,
 "nbformat_minor": 5
}
